{
 "cells": [
  {
   "cell_type": "markdown",
   "id": "17b486a0",
   "metadata": {},
   "source": [
    "# Machine Learning Lab\n",
    "\n",
    "This lab is aimed to walk you through the complete workflow of a machine learning project; from data wrangling, exploratory data analysis (EDA), model training and model evaluation/comparison. \n",
    "\n",
    "You will work with your machine project teamates for this lab and your team needs to decide whether to use either R or Python as the main programming language. You can split up the work for each question, but **you should solve every question in the lab as a team**. Please submit either a file with a link to the GitHub repository (either your fork of the master repo or the master repo itself) or a Jupyter Notebook that contains your completed work.\n",
    "\n",
    "We will use Github for team collaboration and it can be broken down into following steps:\n",
    "\n",
    "1. The team leader creates a public Github repository under his/her account first.\n",
    "\n",
    "2. All the other team members fork the repo so you will have a COPY of the repo under your account\n",
    "\n",
    "3. Git clone YOUR OWN repo otherwise you won't be able to push later.\n",
    "\n",
    "4. Create a subfolder under your name and finish your code. Push the changes to Github. *Note*: you might want to put csv file and system file in the gitignore.\n",
    "\n",
    "5. Go to the Github page of YOUR OWN repository and click the \"Pull Request\" tab. You can find the details [here](https://help.github.com/articles/creating-a-pull-request-from-a-fork/)\n",
    "\n",
    "6. Submit the pull request so you can see it under team leader's repository.\n",
    "\n",
    "7. Pair review each other's code before merging it to the master branch.\n",
    "\n",
    "\n",
    "**Homework**\n",
    "\n",
    "- To sync all the changes made by your teammates to your own repository, follow the instructions under the \"Keeping Your Fork Up to Date\" section [here](https://gist.github.com/Chaser324/ce0505fbed06b947d962).\n",
    "\n",
    "- To understand fork, pull request and branch better, review [this video](https://youtu.be/_NrSWLQsDL4) in 1.25X speed.\n",
    "\n",
    "\n",
    "## Part I: Preprocessing and EDA\n",
    "\n",
    "- The data comes from a global e-retailer company, including orders from 2012 to 2015. Import the **Orders** dataset and do some basic EDA. \n",
    "- For problem 1 to 3, we mainly focus on data cleaning and data visualizations. You can use all the packages that you are familiar with to conduct some plots and also provide **brief interpretations** about your findings.\n",
    "\n",
    "### Problem 1: Dataset Import & Cleaning\n",
    "Check **\"Profit\"** and **\"Sales\"** in the dataset, convert these two columns to numeric type. \n",
    "\n",
    "\n",
    "### Problem 2: Inventory Management\n",
    "- Retailers that depend on seasonal shoppers have a particularly challenging job when it comes to inventory management. Your manager is making plans for next year's inventory.\n",
    "- He wants you to answer the following questions:\n",
    "    1. Is there any seasonal trend of inventory in the company?\n",
    "    2. Is the seasonal trend the same for different categories?\n",
    "\n",
    "- ***Hint:*** For each order, it has an attribute called `Quantity` that indicates the number of product in the order. If an order contains more than one product, there will be multiple observations of the same order.\n",
    "\n",
    "\n",
    "### Problem 3: Why did customers make returns?\n",
    "- Your manager required you to give a brief report (**Plots + Interpretations**) on returned orders.\n",
    "\n",
    "\t1. How much profit did we lose due to returns each year?\n",
    "\n",
    "\n",
    "\t2. How many customer returned more than once? more than 5 times?\n",
    "\n",
    "\n",
    "\t3. Which regions are more likely to return orders?\n",
    "\n",
    "\n",
    "\t4. Which categories (sub-categories) of products are more likely to be returned?\n",
    "\n",
    "- ***Hint:*** Merge the **Returns** dataframe with the **Orders** dataframe using `Order.ID`.\n",
    "\n",
    "\n",
    "## Part II: Machine Learning and Business Use Case\n",
    "\n",
    "Now your manager has a basic understanding of why customers returned orders. Next, he wants you to use machine learning to predict which orders are most likely to be returned. In this part, you will generate several features based on our previous findings and your manager's requirements.\n",
    "\n",
    "### Problem 4: Feature Engineering\n",
    "#### Step 1: Create the dependent variable\n",
    "- First of all, we need to generate a categorical variable which indicates whether an order has been returned or not.\n",
    "- ***Hint:*** the returned orders’ IDs are contained in the dataset “returns”\n",
    "\n",
    "\n",
    "#### Step 2:\n",
    "- Your manager believes that **how long it took the order to ship** would affect whether the customer would return it or not. \n",
    "- He wants you to generate a feature which can measure how long it takes the company to process each order.\n",
    "- ***Hint:*** Process.Time = Ship.Date - Order.Date\n",
    "\n",
    "\n",
    "#### Step 3:\n",
    "\n",
    "- If a product has been returned before, it may be returned again. \n",
    "- Let us generate a feature indictes how many times the product has been returned before.\n",
    "- If it never got returned, we just impute using 0.\n",
    "- ***Hint:*** Group by different Product.ID\n",
    "\n",
    "\n",
    "### Problem 5: Fitting Models\n",
    "\n",
    "- You can use any binary classification method you have learned so far.\n",
    "- Use 80/20 training and test splits to build your model. \n",
    "- Double check the column types before you fit the model.\n",
    "- Only include useful features. i.e all the `ID`s should be excluded from your training set.\n",
    "- Note that there are only less than 5% of the orders have been returned, so you should consider using the [createDataPartition](https://www.rdocumentation.org/packages/caret/versions/6.0-80/topics/createDataPartition) function from `caret` package and [StratifiedKfold](http://scikit-learn.org/stable/modules/generated/sklearn.model_selection.StratifiedKFold.html#sklearn-model-selection-stratifiedkfold) from sklearn when running cross-validation.\n",
    "- Do forget to `set.seed()` before the spilt to make your result reproducible.\n",
    "- **Note:** We are not looking for the best tuned model in the lab so don't spend too much time on grid search. Focus on model evaluation and the business use case of each model.\n",
    "\n",
    "\n",
    "### Problem 6: Evaluating Models\n",
    "- What is the best metric to evaluate your model. Is accuracy good for this case?\n",
    "- Now you have multiple models, which one would you pick? \n",
    "- Can you get any clue from the confusion matrix? What is the meaning of precision and recall in this case? Which one do you care the most? How will your model help the manager make decisions?\n",
    "- **Note:** The last question is open-ended. Your answer could be completely different depending on your understanding of this business problem.\n",
    "\n",
    "### Problem 7: Feature Engineering Revisit\n",
    "- Is there anything wrong with the new feature we generated? How should we fix it?\n",
    "- ***Hint***: For the real test set, we do not know it will get returned or not.\n"
   ]
  },
  {
   "cell_type": "code",
   "execution_count": 1,
   "id": "54435d4c",
   "metadata": {},
   "outputs": [],
   "source": [
    "import pandas as pd\n",
    "import numpy as np\n",
    "import matplotlib.pyplot as plt\n",
    "%matplotlib inline\n",
    "import re"
   ]
  },
  {
   "cell_type": "code",
   "execution_count": 2,
   "id": "9a7ed0cf",
   "metadata": {},
   "outputs": [],
   "source": [
    "orders = pd.read_csv('Orders.csv', index_col='Row.ID')"
   ]
  },
  {
   "cell_type": "code",
   "execution_count": 3,
   "id": "9c36f748",
   "metadata": {},
   "outputs": [
    {
     "data": {
      "text/plain": [
       "(51290, 23)"
      ]
     },
     "execution_count": 3,
     "metadata": {},
     "output_type": "execute_result"
    }
   ],
   "source": [
    "orders.shape"
   ]
  },
  {
   "cell_type": "code",
   "execution_count": 4,
   "id": "24dc98ff",
   "metadata": {},
   "outputs": [
    {
     "data": {
      "text/plain": [
       "Index(['Order.ID', 'Order.Date', 'Ship.Date', 'Ship.Mode', 'Customer.ID',\n",
       "       'Customer.Name', 'Segment', 'Postal.Code', 'City', 'State', 'Country',\n",
       "       'Region', 'Market', 'Product.ID', 'Category', 'Sub.Category',\n",
       "       'Product.Name', 'Sales', 'Quantity', 'Discount', 'Profit',\n",
       "       'Shipping.Cost', 'Order.Priority'],\n",
       "      dtype='object')"
      ]
     },
     "execution_count": 4,
     "metadata": {},
     "output_type": "execute_result"
    }
   ],
   "source": [
    "orders.columns"
   ]
  },
  {
   "cell_type": "markdown",
   "id": "22412abf",
   "metadata": {},
   "source": [
    "### Problem 1: Dataset Import & Cleaning\n",
    "Check **\"Profit\"** and **\"Sales\"** in the dataset, convert these two columns to numeric type. "
   ]
  },
  {
   "cell_type": "code",
   "execution_count": 5,
   "id": "77ab5b39",
   "metadata": {},
   "outputs": [
    {
     "data": {
      "text/html": [
       "<div>\n",
       "<style scoped>\n",
       "    .dataframe tbody tr th:only-of-type {\n",
       "        vertical-align: middle;\n",
       "    }\n",
       "\n",
       "    .dataframe tbody tr th {\n",
       "        vertical-align: top;\n",
       "    }\n",
       "\n",
       "    .dataframe thead th {\n",
       "        text-align: right;\n",
       "    }\n",
       "</style>\n",
       "<table border=\"1\" class=\"dataframe\">\n",
       "  <thead>\n",
       "    <tr style=\"text-align: right;\">\n",
       "      <th></th>\n",
       "      <th>Profit</th>\n",
       "      <th>Sales</th>\n",
       "    </tr>\n",
       "    <tr>\n",
       "      <th>Row.ID</th>\n",
       "      <th></th>\n",
       "      <th></th>\n",
       "    </tr>\n",
       "  </thead>\n",
       "  <tbody>\n",
       "    <tr>\n",
       "      <th>40098</th>\n",
       "      <td>$62.15</td>\n",
       "      <td>$221.98</td>\n",
       "    </tr>\n",
       "    <tr>\n",
       "      <th>26341</th>\n",
       "      <td>-$288.77</td>\n",
       "      <td>$3,709.40</td>\n",
       "    </tr>\n",
       "    <tr>\n",
       "      <th>25330</th>\n",
       "      <td>$919.97</td>\n",
       "      <td>$5,175.17</td>\n",
       "    </tr>\n",
       "    <tr>\n",
       "      <th>13524</th>\n",
       "      <td>-$96.54</td>\n",
       "      <td>$2,892.51</td>\n",
       "    </tr>\n",
       "    <tr>\n",
       "      <th>47221</th>\n",
       "      <td>$311.52</td>\n",
       "      <td>$2,832.96</td>\n",
       "    </tr>\n",
       "  </tbody>\n",
       "</table>\n",
       "</div>"
      ],
      "text/plain": [
       "          Profit      Sales\n",
       "Row.ID                     \n",
       "40098     $62.15    $221.98\n",
       "26341   -$288.77  $3,709.40\n",
       "25330    $919.97  $5,175.17\n",
       "13524    -$96.54  $2,892.51\n",
       "47221    $311.52  $2,832.96"
      ]
     },
     "execution_count": 5,
     "metadata": {},
     "output_type": "execute_result"
    }
   ],
   "source": [
    "orders[['Profit','Sales']].head(5)"
   ]
  },
  {
   "cell_type": "code",
   "execution_count": 6,
   "id": "aed811cb",
   "metadata": {},
   "outputs": [
    {
     "name": "stderr",
     "output_type": "stream",
     "text": [
      "<ipython-input-6-f1db207395e6>:2: FutureWarning: The default value of regex will change from True to False in a future version. In addition, single character regular expressions will*not* be treated as literal strings when regex=True.\n",
      "  orders['Profit'] = orders['Profit'].str.replace('$','')\n"
     ]
    }
   ],
   "source": [
    "#Convert to numeric with pd.extract\n",
    "orders['Profit'] = orders['Profit'].str.replace('$','')\n",
    "orders['Profit'] = orders['Profit'].str.replace(',','')\n",
    "orders['Profit'] = pd.to_numeric(orders['Profit'])"
   ]
  },
  {
   "cell_type": "code",
   "execution_count": 7,
   "id": "f67710b1",
   "metadata": {},
   "outputs": [
    {
     "name": "stderr",
     "output_type": "stream",
     "text": [
      "<ipython-input-7-bce5f72a4dfb>:1: FutureWarning: The default value of regex will change from True to False in a future version. In addition, single character regular expressions will*not* be treated as literal strings when regex=True.\n",
      "  orders['Sales'] = orders['Sales'].str.replace('$','')\n"
     ]
    }
   ],
   "source": [
    "orders['Sales'] = orders['Sales'].str.replace('$','')\n",
    "orders['Sales'] = orders['Sales'].str.replace(',','')\n",
    "orders['Sales'] = pd.to_numeric(orders['Sales'])"
   ]
  },
  {
   "cell_type": "code",
   "execution_count": 8,
   "id": "6e0656f1",
   "metadata": {},
   "outputs": [
    {
     "data": {
      "text/html": [
       "<div>\n",
       "<style scoped>\n",
       "    .dataframe tbody tr th:only-of-type {\n",
       "        vertical-align: middle;\n",
       "    }\n",
       "\n",
       "    .dataframe tbody tr th {\n",
       "        vertical-align: top;\n",
       "    }\n",
       "\n",
       "    .dataframe thead th {\n",
       "        text-align: right;\n",
       "    }\n",
       "</style>\n",
       "<table border=\"1\" class=\"dataframe\">\n",
       "  <thead>\n",
       "    <tr style=\"text-align: right;\">\n",
       "      <th></th>\n",
       "      <th>Profit</th>\n",
       "      <th>Sales</th>\n",
       "    </tr>\n",
       "  </thead>\n",
       "  <tbody>\n",
       "    <tr>\n",
       "      <th>count</th>\n",
       "      <td>51290.000000</td>\n",
       "      <td>51290.000000</td>\n",
       "    </tr>\n",
       "    <tr>\n",
       "      <th>mean</th>\n",
       "      <td>28.610970</td>\n",
       "      <td>246.490685</td>\n",
       "    </tr>\n",
       "    <tr>\n",
       "      <th>std</th>\n",
       "      <td>174.341066</td>\n",
       "      <td>487.565388</td>\n",
       "    </tr>\n",
       "    <tr>\n",
       "      <th>min</th>\n",
       "      <td>-6599.980000</td>\n",
       "      <td>0.440000</td>\n",
       "    </tr>\n",
       "    <tr>\n",
       "      <th>25%</th>\n",
       "      <td>0.000000</td>\n",
       "      <td>30.762500</td>\n",
       "    </tr>\n",
       "    <tr>\n",
       "      <th>50%</th>\n",
       "      <td>9.240000</td>\n",
       "      <td>85.055000</td>\n",
       "    </tr>\n",
       "    <tr>\n",
       "      <th>75%</th>\n",
       "      <td>36.810000</td>\n",
       "      <td>251.055000</td>\n",
       "    </tr>\n",
       "    <tr>\n",
       "      <th>max</th>\n",
       "      <td>8399.980000</td>\n",
       "      <td>22638.480000</td>\n",
       "    </tr>\n",
       "  </tbody>\n",
       "</table>\n",
       "</div>"
      ],
      "text/plain": [
       "             Profit         Sales\n",
       "count  51290.000000  51290.000000\n",
       "mean      28.610970    246.490685\n",
       "std      174.341066    487.565388\n",
       "min    -6599.980000      0.440000\n",
       "25%        0.000000     30.762500\n",
       "50%        9.240000     85.055000\n",
       "75%       36.810000    251.055000\n",
       "max     8399.980000  22638.480000"
      ]
     },
     "execution_count": 8,
     "metadata": {},
     "output_type": "execute_result"
    }
   ],
   "source": [
    "orders[['Profit','Sales']].describe()"
   ]
  },
  {
   "cell_type": "markdown",
   "id": "0905399f",
   "metadata": {},
   "source": [
    "### Problem 2: Inventory Management\n",
    "- Retailers that depend on seasonal shoppers have a particularly challenging job when it comes to inventory management. Your manager is making plans for next year's inventory.\n",
    "- He wants you to answer the following questions:\n",
    "    1. Is there any seasonal trend of inventory in the company?\n",
    "    2. Is the seasonal trend the same for different categories?\n",
    "\n",
    "- ***Hint:*** For each order, it has an attribute called `Quantity` that indicates the number of product in the order. If an order contains more than one product, there will be multiple observations of the same order."
   ]
  },
  {
   "cell_type": "code",
   "execution_count": 9,
   "id": "97c769e7",
   "metadata": {},
   "outputs": [
    {
     "data": {
      "text/plain": [
       "count       51290\n",
       "unique       1430\n",
       "top       6/18/15\n",
       "freq          135\n",
       "Name: Order.Date, dtype: object"
      ]
     },
     "execution_count": 9,
     "metadata": {},
     "output_type": "execute_result"
    }
   ],
   "source": [
    "orders['Order.Date'].describe()"
   ]
  },
  {
   "cell_type": "code",
   "execution_count": 10,
   "id": "63aed47f",
   "metadata": {},
   "outputs": [],
   "source": [
    "orders['Order.Date'] = pd.to_datetime(orders['Order.Date'])"
   ]
  },
  {
   "cell_type": "code",
   "execution_count": 40,
   "id": "8dcb6595",
   "metadata": {},
   "outputs": [],
   "source": [
    "orders['month'] = pd.DatetimeIndex(orders['Order.Date']).month\n",
    "orders['year'] = pd.DatetimeIndex(orders['Order.Date']).year"
   ]
  },
  {
   "cell_type": "code",
   "execution_count": 12,
   "id": "542103a9",
   "metadata": {
    "scrolled": false
   },
   "outputs": [
    {
     "name": "stdout",
     "output_type": "stream",
     "text": [
      "Consumer       26518\n",
      "Corporate      15429\n",
      "Home Office     9343\n",
      "Name: Segment, dtype: int64\n",
      "---------------------------\n",
      "Asia Pacific    14302\n",
      "Europe          11729\n",
      "USCA            10378\n",
      "LATAM           10294\n",
      "Africa           4587\n",
      "Name: Market, dtype: int64\n",
      "---------------------------\n",
      "Office Supplies    31289\n",
      "Technology         10141\n",
      "Furniture           9860\n",
      "Name: Category, dtype: int64\n",
      "---------------------------\n",
      "Binders        6146\n",
      "Storage        5049\n",
      "Art            4864\n",
      "Paper          3492\n",
      "Chairs         3434\n",
      "Phones         3357\n",
      "Furnishings    3154\n",
      "Accessories    3075\n",
      "Labels         2601\n",
      "Fasteners      2601\n",
      "Bookcases      2411\n",
      "Supplies       2407\n",
      "Envelopes      2387\n",
      "Copiers        2223\n",
      "Appliances     1742\n",
      "Machines       1486\n",
      "Tables          861\n",
      "Name: Sub.Category, dtype: int64\n",
      "---------------------------\n"
     ]
    }
   ],
   "source": [
    "for col in ['Segment', 'Market', 'Category', 'Sub.Category']:\n",
    "    print(orders[col].value_counts())\n",
    "    print('---------------------------')"
   ]
  },
  {
   "cell_type": "code",
   "execution_count": 21,
   "id": "48652001",
   "metadata": {},
   "outputs": [],
   "source": [
    "#orders.loc[orders['Order.ID']=='CA-2015-SV20365140-42268']"
   ]
  },
  {
   "cell_type": "code",
   "execution_count": 29,
   "id": "7af7d135",
   "metadata": {},
   "outputs": [
    {
     "data": {
      "text/html": [
       "<div>\n",
       "<style scoped>\n",
       "    .dataframe tbody tr th:only-of-type {\n",
       "        vertical-align: middle;\n",
       "    }\n",
       "\n",
       "    .dataframe tbody tr th {\n",
       "        vertical-align: top;\n",
       "    }\n",
       "\n",
       "    .dataframe thead tr th {\n",
       "        text-align: left;\n",
       "    }\n",
       "\n",
       "    .dataframe thead tr:last-of-type th {\n",
       "        text-align: right;\n",
       "    }\n",
       "</style>\n",
       "<table border=\"1\" class=\"dataframe\">\n",
       "  <thead>\n",
       "    <tr>\n",
       "      <th></th>\n",
       "      <th colspan=\"2\" halign=\"left\">Quantity</th>\n",
       "      <th colspan=\"2\" halign=\"left\">Sales</th>\n",
       "    </tr>\n",
       "    <tr>\n",
       "      <th></th>\n",
       "      <th>count</th>\n",
       "      <th>sum</th>\n",
       "      <th>count</th>\n",
       "      <th>sum</th>\n",
       "    </tr>\n",
       "    <tr>\n",
       "      <th>month</th>\n",
       "      <th></th>\n",
       "      <th></th>\n",
       "      <th></th>\n",
       "      <th></th>\n",
       "    </tr>\n",
       "  </thead>\n",
       "  <tbody>\n",
       "    <tr>\n",
       "      <th>1</th>\n",
       "      <td>2611</td>\n",
       "      <td>8872</td>\n",
       "      <td>2611</td>\n",
       "      <td>676789.30</td>\n",
       "    </tr>\n",
       "    <tr>\n",
       "      <th>2</th>\n",
       "      <td>2209</td>\n",
       "      <td>7429</td>\n",
       "      <td>2209</td>\n",
       "      <td>554650.21</td>\n",
       "    </tr>\n",
       "    <tr>\n",
       "      <th>3</th>\n",
       "      <td>3007</td>\n",
       "      <td>10390</td>\n",
       "      <td>3007</td>\n",
       "      <td>760518.34</td>\n",
       "    </tr>\n",
       "    <tr>\n",
       "      <th>4</th>\n",
       "      <td>3032</td>\n",
       "      <td>10466</td>\n",
       "      <td>3032</td>\n",
       "      <td>695978.86</td>\n",
       "    </tr>\n",
       "    <tr>\n",
       "      <th>5</th>\n",
       "      <td>3787</td>\n",
       "      <td>13196</td>\n",
       "      <td>3787</td>\n",
       "      <td>915493.24</td>\n",
       "    </tr>\n",
       "  </tbody>\n",
       "</table>\n",
       "</div>"
      ],
      "text/plain": [
       "      Quantity        Sales           \n",
       "         count    sum count        sum\n",
       "month                                 \n",
       "1         2611   8872  2611  676789.30\n",
       "2         2209   7429  2209  554650.21\n",
       "3         3007  10390  3007  760518.34\n",
       "4         3032  10466  3032  695978.86\n",
       "5         3787  13196  3787  915493.24"
      ]
     },
     "execution_count": 29,
     "metadata": {},
     "output_type": "execute_result"
    }
   ],
   "source": [
    "seasons = orders.groupby('month')[['Quantity','Sales']].agg(['count','sum'])\n",
    "seasons.head()"
   ]
  },
  {
   "cell_type": "code",
   "execution_count": 32,
   "id": "27598e65",
   "metadata": {},
   "outputs": [
    {
     "data": {
      "text/plain": [
       "MultiIndex([('Quantity', 'count'),\n",
       "            ('Quantity',   'sum'),\n",
       "            (   'Sales', 'count'),\n",
       "            (   'Sales',   'sum')],\n",
       "           )"
      ]
     },
     "execution_count": 32,
     "metadata": {},
     "output_type": "execute_result"
    }
   ],
   "source": [
    "seasons.columns"
   ]
  },
  {
   "cell_type": "code",
   "execution_count": 30,
   "id": "8ed8fffc",
   "metadata": {},
   "outputs": [],
   "source": [
    "import seaborn as sns"
   ]
  },
  {
   "cell_type": "code",
   "execution_count": 37,
   "id": "3eb9602a",
   "metadata": {},
   "outputs": [
    {
     "data": {
      "text/plain": [
       "<AxesSubplot:xlabel='month', ylabel=\"('Sales', 'sum')\">"
      ]
     },
     "execution_count": 37,
     "metadata": {},
     "output_type": "execute_result"
    },
    {
     "data": {
      "image/png": "[encoded data removed]",
      "text/plain": [
       "<Figure size 1152x432 with 3 Axes>"
      ]
     },
     "metadata": {
      "needs_background": "light"
     },
     "output_type": "display_data"
    }
   ],
   "source": [
    "fig, (ax1, ax2, ax3) = plt.subplots(1, 3, figsize=(16,6))\n",
    "fig.suptitle('Seasonality Charts')\n",
    "\n",
    "sns.barplot(ax=ax1,x=seasons.index,y=('Quantity',   'count'), data=seasons, color='teal')\n",
    "sns.barplot(ax=ax2,x=seasons.index,y=('Quantity',   'sum'), data=seasons, color='teal')\n",
    "sns.barplot(ax=ax3,x=seasons.index,y=('Sales',   'sum'), data=seasons, color='teal')"
   ]
  },
  {
   "cell_type": "code",
   "execution_count": 68,
   "id": "27affe53",
   "metadata": {},
   "outputs": [],
   "source": [
    "years = orders.groupby(['Category','year','month'])[['Quantity','Sales']].agg(['sum'])\n",
    "years = years.reset_index()\n",
    "years['year_month'] = years.year.astype(str) + '_' + years.month.astype(str)"
   ]
  },
  {
   "cell_type": "code",
   "execution_count": 69,
   "id": "5afb16bc",
   "metadata": {},
   "outputs": [
    {
     "data": {
      "text/plain": [
       "MultiIndex([(  'Category',    ''),\n",
       "            (      'year',    ''),\n",
       "            (     'month',    ''),\n",
       "            (  'Quantity', 'sum'),\n",
       "            (     'Sales', 'sum'),\n",
       "            ('year_month',    '')],\n",
       "           )"
      ]
     },
     "execution_count": 69,
     "metadata": {},
     "output_type": "execute_result"
    }
   ],
   "source": [
    "years.columns"
   ]
  },
  {
   "cell_type": "code",
   "execution_count": 70,
   "id": "3dc3ef29",
   "metadata": {},
   "outputs": [
    {
     "data": {
      "text/html": [
       "<div>\n",
       "<style scoped>\n",
       "    .dataframe tbody tr th:only-of-type {\n",
       "        vertical-align: middle;\n",
       "    }\n",
       "\n",
       "    .dataframe tbody tr th {\n",
       "        vertical-align: top;\n",
       "    }\n",
       "\n",
       "    .dataframe thead tr th {\n",
       "        text-align: left;\n",
       "    }\n",
       "</style>\n",
       "<table border=\"1\" class=\"dataframe\">\n",
       "  <thead>\n",
       "    <tr>\n",
       "      <th></th>\n",
       "      <th>Category</th>\n",
       "      <th>year</th>\n",
       "      <th>month</th>\n",
       "      <th>Quantity</th>\n",
       "      <th>Sales</th>\n",
       "      <th>year_month</th>\n",
       "    </tr>\n",
       "    <tr>\n",
       "      <th></th>\n",
       "      <th></th>\n",
       "      <th></th>\n",
       "      <th></th>\n",
       "      <th>sum</th>\n",
       "      <th>sum</th>\n",
       "      <th></th>\n",
       "    </tr>\n",
       "  </thead>\n",
       "  <tbody>\n",
       "    <tr>\n",
       "      <th>0</th>\n",
       "      <td>Furniture</td>\n",
       "      <td>2012</td>\n",
       "      <td>1</td>\n",
       "      <td>246</td>\n",
       "      <td>34463.74</td>\n",
       "      <td>2012_1</td>\n",
       "    </tr>\n",
       "    <tr>\n",
       "      <th>1</th>\n",
       "      <td>Furniture</td>\n",
       "      <td>2012</td>\n",
       "      <td>2</td>\n",
       "      <td>278</td>\n",
       "      <td>35799.40</td>\n",
       "      <td>2012_2</td>\n",
       "    </tr>\n",
       "    <tr>\n",
       "      <th>2</th>\n",
       "      <td>Furniture</td>\n",
       "      <td>2012</td>\n",
       "      <td>3</td>\n",
       "      <td>319</td>\n",
       "      <td>40277.32</td>\n",
       "      <td>2012_3</td>\n",
       "    </tr>\n",
       "    <tr>\n",
       "      <th>3</th>\n",
       "      <td>Furniture</td>\n",
       "      <td>2012</td>\n",
       "      <td>4</td>\n",
       "      <td>326</td>\n",
       "      <td>30689.56</td>\n",
       "      <td>2012_4</td>\n",
       "    </tr>\n",
       "    <tr>\n",
       "      <th>4</th>\n",
       "      <td>Furniture</td>\n",
       "      <td>2012</td>\n",
       "      <td>5</td>\n",
       "      <td>409</td>\n",
       "      <td>49768.69</td>\n",
       "      <td>2012_5</td>\n",
       "    </tr>\n",
       "  </tbody>\n",
       "</table>\n",
       "</div>"
      ],
      "text/plain": [
       "    Category  year month Quantity     Sales year_month\n",
       "                              sum       sum           \n",
       "0  Furniture  2012     1      246  34463.74     2012_1\n",
       "1  Furniture  2012     2      278  35799.40     2012_2\n",
       "2  Furniture  2012     3      319  40277.32     2012_3\n",
       "3  Furniture  2012     4      326  30689.56     2012_4\n",
       "4  Furniture  2012     5      409  49768.69     2012_5"
      ]
     },
     "execution_count": 70,
     "metadata": {},
     "output_type": "execute_result"
    }
   ],
   "source": [
    "years.head()"
   ]
  },
  {
   "cell_type": "code",
   "execution_count": 73,
   "id": "7d9bb620",
   "metadata": {},
   "outputs": [
    {
     "data": {
      "text/plain": [
       "<AxesSubplot:xlabel=\"('year_month', '')\", ylabel=\"('Quantity', 'sum')\">"
      ]
     },
     "execution_count": 73,
     "metadata": {},
     "output_type": "execute_result"
    },
    {
     "data": {
      "image/png": "[encoded data removed]",
      "text/plain": [
       "<Figure size 1080x576 with 1 Axes>"
      ]
     },
     "metadata": {
      "needs_background": "light"
     },
     "output_type": "display_data"
    }
   ],
   "source": [
    "plt.figure(figsize=(15,8))\n",
    "sns.lineplot(x=('year_month',    ''), y=('Quantity', 'sum'), hue=(  'Category',    '') ,data = years)"
   ]
  },
  {
   "cell_type": "markdown",
   "id": "87ea9b56",
   "metadata": {},
   "source": [
    "### Problem 3: Why did customers make returns?\n",
    "- Your manager required you to give a brief report (**Plots + Interpretations**) on returned orders.\n",
    "1. How much profit did we lose due to returns each year?\n",
    "2. How many customer returned more than once? more than 5 times?\n",
    "3. Which regions are more likely to return orders?\n",
    "4. Which categories (sub-categories) of products are more likely to be returned?\n",
    "\n",
    "- ***Hint:*** Merge the **Returns** dataframe with the **Orders** dataframe using `Order.ID`."
   ]
  },
  {
   "cell_type": "code",
   "execution_count": 129,
   "id": "3e1b5434",
   "metadata": {},
   "outputs": [],
   "source": [
    "returns = pd.read_csv('Returns.csv')"
   ]
  },
  {
   "cell_type": "code",
   "execution_count": 130,
   "id": "af70f236",
   "metadata": {},
   "outputs": [],
   "source": [
    "data = orders.merge(returns, how='left', left_on='Order.ID', right_on='Order ID')"
   ]
  },
  {
   "cell_type": "code",
   "execution_count": 131,
   "id": "17d2d408",
   "metadata": {},
   "outputs": [
    {
     "data": {
      "text/plain": [
       "Index(['Order.ID', 'Order.Date', 'Ship.Date', 'Ship.Mode', 'Customer.ID',\n",
       "       'Customer.Name', 'Segment', 'Postal.Code', 'City', 'State', 'Country',\n",
       "       'Region_x', 'Market', 'Product.ID', 'Category', 'Sub.Category',\n",
       "       'Product.Name', 'Sales', 'Quantity', 'Discount', 'Profit',\n",
       "       'Shipping.Cost', 'Order.Priority', 'month', 'year', 'Returned',\n",
       "       'Order ID', 'Region_y'],\n",
       "      dtype='object')"
      ]
     },
     "execution_count": 131,
     "metadata": {},
     "output_type": "execute_result"
    }
   ],
   "source": [
    "data.columns"
   ]
  },
  {
   "cell_type": "markdown",
   "id": "e6ca58d5",
   "metadata": {},
   "source": [
    "1. How much profit did we lose due to returns each year?"
   ]
  },
  {
   "cell_type": "code",
   "execution_count": 132,
   "id": "32120980",
   "metadata": {},
   "outputs": [],
   "source": [
    "q1 = data.groupby(['Returned','year'])['Profit'].agg(['sum'])"
   ]
  },
  {
   "cell_type": "code",
   "execution_count": 133,
   "id": "a909f869",
   "metadata": {},
   "outputs": [
    {
     "data": {
      "text/html": [
       "<div>\n",
       "<style scoped>\n",
       "    .dataframe tbody tr th:only-of-type {\n",
       "        vertical-align: middle;\n",
       "    }\n",
       "\n",
       "    .dataframe tbody tr th {\n",
       "        vertical-align: top;\n",
       "    }\n",
       "\n",
       "    .dataframe thead th {\n",
       "        text-align: right;\n",
       "    }\n",
       "</style>\n",
       "<table border=\"1\" class=\"dataframe\">\n",
       "  <thead>\n",
       "    <tr style=\"text-align: right;\">\n",
       "      <th></th>\n",
       "      <th></th>\n",
       "      <th>sum</th>\n",
       "    </tr>\n",
       "    <tr>\n",
       "      <th>Returned</th>\n",
       "      <th>year</th>\n",
       "      <th></th>\n",
       "    </tr>\n",
       "  </thead>\n",
       "  <tbody>\n",
       "    <tr>\n",
       "      <th rowspan=\"4\" valign=\"top\">Yes</th>\n",
       "      <th>2012</th>\n",
       "      <td>17477.26</td>\n",
       "    </tr>\n",
       "    <tr>\n",
       "      <th>2013</th>\n",
       "      <td>9269.89</td>\n",
       "    </tr>\n",
       "    <tr>\n",
       "      <th>2014</th>\n",
       "      <td>17510.63</td>\n",
       "    </tr>\n",
       "    <tr>\n",
       "      <th>2015</th>\n",
       "      <td>17112.97</td>\n",
       "    </tr>\n",
       "  </tbody>\n",
       "</table>\n",
       "</div>"
      ],
      "text/plain": [
       "                    sum\n",
       "Returned year          \n",
       "Yes      2012  17477.26\n",
       "         2013   9269.89\n",
       "         2014  17510.63\n",
       "         2015  17112.97"
      ]
     },
     "execution_count": 133,
     "metadata": {},
     "output_type": "execute_result"
    }
   ],
   "source": [
    "q1"
   ]
  },
  {
   "cell_type": "markdown",
   "id": "53df8edc",
   "metadata": {},
   "source": [
    "2. How many customer returned more than once? more than 5 times?"
   ]
  },
  {
   "cell_type": "code",
   "execution_count": 134,
   "id": "ebfafcd0",
   "metadata": {},
   "outputs": [],
   "source": [
    "q2 = data.groupby(['Returned','Customer.ID'])['Order.ID'].agg('count')"
   ]
  },
  {
   "cell_type": "code",
   "execution_count": 135,
   "id": "1a98eed7",
   "metadata": {},
   "outputs": [
    {
     "data": {
      "text/plain": [
       "Returned  Customer.ID \n",
       "Yes       AA-1031558      1\n",
       "          AA-106451404    1\n",
       "          AA-1064559      3\n",
       "          AA-1064564      1\n",
       "          AA-645137       1\n",
       "                         ..\n",
       "          WB-218501406    3\n",
       "          WB-2185064      1\n",
       "          YS-2188093      1\n",
       "          ZC-219101402    1\n",
       "          ZD-2192548      1\n",
       "Name: Order.ID, Length: 1061, dtype: int64"
      ]
     },
     "execution_count": 135,
     "metadata": {},
     "output_type": "execute_result"
    }
   ],
   "source": [
    "q2"
   ]
  },
  {
   "cell_type": "code",
   "execution_count": 136,
   "id": "00cfe0a6",
   "metadata": {},
   "outputs": [
    {
     "name": "stdout",
     "output_type": "stream",
     "text": [
      "customers with more than ONE return: 547\n",
      "customers with more than FIVE return: 46\n"
     ]
    }
   ],
   "source": [
    "print(f'customers with more than ONE return: {np.sum(q2 > 1)}')\n",
    "print(f'customers with more than FIVE return: {np.sum(q2 > 5)}')"
   ]
  },
  {
   "cell_type": "markdown",
   "id": "2c2a4b53",
   "metadata": {},
   "source": [
    "3. Which regions are more likely to return orders?"
   ]
  },
  {
   "cell_type": "code",
   "execution_count": 170,
   "id": "a24af478",
   "metadata": {},
   "outputs": [],
   "source": [
    "ret_region = data.groupby('Returned')['Region_x'].value_counts().to_frame()"
   ]
  },
  {
   "cell_type": "code",
   "execution_count": 160,
   "id": "9e952e64",
   "metadata": {},
   "outputs": [],
   "source": [
    "all_region = data['Region_x'].value_counts().to_frame()\n",
    "all_region = all_region.rename(columns={'Region_x':\"Returns\"})"
   ]
  },
  {
   "cell_type": "code",
   "execution_count": 171,
   "id": "a1d228c1",
   "metadata": {
    "scrolled": false
   },
   "outputs": [],
   "source": [
    "ret_region = ret_region.rename(columns={'Region_x':\"Returns_count\"})"
   ]
  },
  {
   "cell_type": "code",
   "execution_count": 173,
   "id": "4a164722",
   "metadata": {},
   "outputs": [],
   "source": [
    "ret_region = ret_region.reset_index()"
   ]
  },
  {
   "cell_type": "code",
   "execution_count": 175,
   "id": "b2d5f7e2",
   "metadata": {},
   "outputs": [],
   "source": [
    "all_region = all_region.merge(ret_region, how='left', left_index=True, right_on='Region_x')"
   ]
  },
  {
   "cell_type": "code",
   "execution_count": 177,
   "id": "3ae59010",
   "metadata": {},
   "outputs": [],
   "source": [
    "all_region['Return_ratio'] = all_region.Returns_count / all_region.Returns"
   ]
  },
  {
   "cell_type": "code",
   "execution_count": 180,
   "id": "16cec408",
   "metadata": {},
   "outputs": [
    {
     "data": {
      "text/html": [
       "<div>\n",
       "<style scoped>\n",
       "    .dataframe tbody tr th:only-of-type {\n",
       "        vertical-align: middle;\n",
       "    }\n",
       "\n",
       "    .dataframe tbody tr th {\n",
       "        vertical-align: top;\n",
       "    }\n",
       "\n",
       "    .dataframe thead th {\n",
       "        text-align: right;\n",
       "    }\n",
       "</style>\n",
       "<table border=\"1\" class=\"dataframe\">\n",
       "  <thead>\n",
       "    <tr style=\"text-align: right;\">\n",
       "      <th></th>\n",
       "      <th>Returns</th>\n",
       "      <th>Returned</th>\n",
       "      <th>Region_x</th>\n",
       "      <th>Returns_count</th>\n",
       "      <th>Return_ratio</th>\n",
       "    </tr>\n",
       "  </thead>\n",
       "  <tbody>\n",
       "    <tr>\n",
       "      <th>2</th>\n",
       "      <td>3203</td>\n",
       "      <td>Yes</td>\n",
       "      <td>Western US</td>\n",
       "      <td>177</td>\n",
       "      <td>0.055261</td>\n",
       "    </tr>\n",
       "    <tr>\n",
       "      <th>7</th>\n",
       "      <td>2374</td>\n",
       "      <td>Yes</td>\n",
       "      <td>Eastern Asia</td>\n",
       "      <td>131</td>\n",
       "      <td>0.055181</td>\n",
       "    </tr>\n",
       "    <tr>\n",
       "      <th>8</th>\n",
       "      <td>2113</td>\n",
       "      <td>Yes</td>\n",
       "      <td>Southern Europe</td>\n",
       "      <td>112</td>\n",
       "      <td>0.053005</td>\n",
       "    </tr>\n",
       "    <tr>\n",
       "      <th>18</th>\n",
       "      <td>478</td>\n",
       "      <td>Yes</td>\n",
       "      <td>Southern Africa</td>\n",
       "      <td>25</td>\n",
       "      <td>0.052301</td>\n",
       "    </tr>\n",
       "    <tr>\n",
       "      <th>11</th>\n",
       "      <td>1620</td>\n",
       "      <td>Yes</td>\n",
       "      <td>Southern US</td>\n",
       "      <td>83</td>\n",
       "      <td>0.051235</td>\n",
       "    </tr>\n",
       "    <tr>\n",
       "      <th>5</th>\n",
       "      <td>2848</td>\n",
       "      <td>Yes</td>\n",
       "      <td>Eastern US</td>\n",
       "      <td>134</td>\n",
       "      <td>0.047051</td>\n",
       "    </tr>\n",
       "    <tr>\n",
       "      <th>4</th>\n",
       "      <td>3129</td>\n",
       "      <td>Yes</td>\n",
       "      <td>Southeastern Asia</td>\n",
       "      <td>140</td>\n",
       "      <td>0.044743</td>\n",
       "    </tr>\n",
       "    <tr>\n",
       "      <th>6</th>\n",
       "      <td>2988</td>\n",
       "      <td>Yes</td>\n",
       "      <td>South America</td>\n",
       "      <td>133</td>\n",
       "      <td>0.044511</td>\n",
       "    </tr>\n",
       "    <tr>\n",
       "      <th>10</th>\n",
       "      <td>2440</td>\n",
       "      <td>Yes</td>\n",
       "      <td>Western Asia</td>\n",
       "      <td>108</td>\n",
       "      <td>0.044262</td>\n",
       "    </tr>\n",
       "    <tr>\n",
       "      <th>3</th>\n",
       "      <td>3487</td>\n",
       "      <td>Yes</td>\n",
       "      <td>Oceania</td>\n",
       "      <td>154</td>\n",
       "      <td>0.044164</td>\n",
       "    </tr>\n",
       "    <tr>\n",
       "      <th>0</th>\n",
       "      <td>5616</td>\n",
       "      <td>Yes</td>\n",
       "      <td>Central America</td>\n",
       "      <td>248</td>\n",
       "      <td>0.044160</td>\n",
       "    </tr>\n",
       "    <tr>\n",
       "      <th>9</th>\n",
       "      <td>2655</td>\n",
       "      <td>Yes</td>\n",
       "      <td>Southern Asia</td>\n",
       "      <td>111</td>\n",
       "      <td>0.041808</td>\n",
       "    </tr>\n",
       "    <tr>\n",
       "      <th>22</th>\n",
       "      <td>217</td>\n",
       "      <td>Yes</td>\n",
       "      <td>Central Asia</td>\n",
       "      <td>9</td>\n",
       "      <td>0.041475</td>\n",
       "    </tr>\n",
       "    <tr>\n",
       "      <th>15</th>\n",
       "      <td>1460</td>\n",
       "      <td>Yes</td>\n",
       "      <td>Western Africa</td>\n",
       "      <td>60</td>\n",
       "      <td>0.041096</td>\n",
       "    </tr>\n",
       "    <tr>\n",
       "      <th>14</th>\n",
       "      <td>1690</td>\n",
       "      <td>Yes</td>\n",
       "      <td>Caribbean</td>\n",
       "      <td>69</td>\n",
       "      <td>0.040828</td>\n",
       "    </tr>\n",
       "    <tr>\n",
       "      <th>16</th>\n",
       "      <td>1278</td>\n",
       "      <td>Yes</td>\n",
       "      <td>North Africa</td>\n",
       "      <td>51</td>\n",
       "      <td>0.039906</td>\n",
       "    </tr>\n",
       "    <tr>\n",
       "      <th>1</th>\n",
       "      <td>5883</td>\n",
       "      <td>Yes</td>\n",
       "      <td>Western Europe</td>\n",
       "      <td>233</td>\n",
       "      <td>0.039606</td>\n",
       "    </tr>\n",
       "    <tr>\n",
       "      <th>21</th>\n",
       "      <td>384</td>\n",
       "      <td>Yes</td>\n",
       "      <td>Canada</td>\n",
       "      <td>15</td>\n",
       "      <td>0.039062</td>\n",
       "    </tr>\n",
       "    <tr>\n",
       "      <th>12</th>\n",
       "      <td>2204</td>\n",
       "      <td>Yes</td>\n",
       "      <td>Northern Europe</td>\n",
       "      <td>76</td>\n",
       "      <td>0.034483</td>\n",
       "    </tr>\n",
       "    <tr>\n",
       "      <th>13</th>\n",
       "      <td>2323</td>\n",
       "      <td>Yes</td>\n",
       "      <td>Central US</td>\n",
       "      <td>74</td>\n",
       "      <td>0.031855</td>\n",
       "    </tr>\n",
       "    <tr>\n",
       "      <th>17</th>\n",
       "      <td>1529</td>\n",
       "      <td>Yes</td>\n",
       "      <td>Eastern Europe</td>\n",
       "      <td>42</td>\n",
       "      <td>0.027469</td>\n",
       "    </tr>\n",
       "    <tr>\n",
       "      <th>20</th>\n",
       "      <td>643</td>\n",
       "      <td>Yes</td>\n",
       "      <td>Central Africa</td>\n",
       "      <td>17</td>\n",
       "      <td>0.026439</td>\n",
       "    </tr>\n",
       "    <tr>\n",
       "      <th>19</th>\n",
       "      <td>728</td>\n",
       "      <td>Yes</td>\n",
       "      <td>Eastern Africa</td>\n",
       "      <td>18</td>\n",
       "      <td>0.024725</td>\n",
       "    </tr>\n",
       "  </tbody>\n",
       "</table>\n",
       "</div>"
      ],
      "text/plain": [
       "    Returns Returned           Region_x  Returns_count  Return_ratio\n",
       "2      3203      Yes         Western US            177      0.055261\n",
       "7      2374      Yes       Eastern Asia            131      0.055181\n",
       "8      2113      Yes    Southern Europe            112      0.053005\n",
       "18      478      Yes    Southern Africa             25      0.052301\n",
       "11     1620      Yes        Southern US             83      0.051235\n",
       "5      2848      Yes         Eastern US            134      0.047051\n",
       "4      3129      Yes  Southeastern Asia            140      0.044743\n",
       "6      2988      Yes      South America            133      0.044511\n",
       "10     2440      Yes       Western Asia            108      0.044262\n",
       "3      3487      Yes            Oceania            154      0.044164\n",
       "0      5616      Yes    Central America            248      0.044160\n",
       "9      2655      Yes      Southern Asia            111      0.041808\n",
       "22      217      Yes       Central Asia              9      0.041475\n",
       "15     1460      Yes     Western Africa             60      0.041096\n",
       "14     1690      Yes          Caribbean             69      0.040828\n",
       "16     1278      Yes       North Africa             51      0.039906\n",
       "1      5883      Yes     Western Europe            233      0.039606\n",
       "21      384      Yes             Canada             15      0.039062\n",
       "12     2204      Yes    Northern Europe             76      0.034483\n",
       "13     2323      Yes         Central US             74      0.031855\n",
       "17     1529      Yes     Eastern Europe             42      0.027469\n",
       "20      643      Yes     Central Africa             17      0.026439\n",
       "19      728      Yes     Eastern Africa             18      0.024725"
      ]
     },
     "execution_count": 180,
     "metadata": {},
     "output_type": "execute_result"
    }
   ],
   "source": [
    "all_region.sort_values(by='Return_ratio',ascending=False)"
   ]
  },
  {
   "cell_type": "markdown",
   "id": "f2a0a3d2",
   "metadata": {},
   "source": [
    "4. Which categories (sub-categories) of products are more likely to be returned?"
   ]
  },
  {
   "cell_type": "code",
   "execution_count": 181,
   "id": "61737da3",
   "metadata": {},
   "outputs": [],
   "source": [
    "ret_cat = data.groupby('Returned')['Category'].value_counts().to_frame()"
   ]
  },
  {
   "cell_type": "code",
   "execution_count": 184,
   "id": "9dbd1ff3",
   "metadata": {},
   "outputs": [],
   "source": [
    "all_cat = data['Category'].value_counts().to_frame()"
   ]
  },
  {
   "cell_type": "code",
   "execution_count": 186,
   "id": "924ea34c",
   "metadata": {},
   "outputs": [],
   "source": [
    "ret_cat = ret_cat.rename(columns={'Category':'Category_count'}).reset_index()"
   ]
  },
  {
   "cell_type": "code",
   "execution_count": 191,
   "id": "92cd745c",
   "metadata": {},
   "outputs": [
    {
     "data": {
      "text/html": [
       "<div>\n",
       "<style scoped>\n",
       "    .dataframe tbody tr th:only-of-type {\n",
       "        vertical-align: middle;\n",
       "    }\n",
       "\n",
       "    .dataframe tbody tr th {\n",
       "        vertical-align: top;\n",
       "    }\n",
       "\n",
       "    .dataframe thead th {\n",
       "        text-align: right;\n",
       "    }\n",
       "</style>\n",
       "<table border=\"1\" class=\"dataframe\">\n",
       "  <thead>\n",
       "    <tr style=\"text-align: right;\">\n",
       "      <th></th>\n",
       "      <th>Returned</th>\n",
       "      <th>Category</th>\n",
       "      <th>Category_count</th>\n",
       "    </tr>\n",
       "  </thead>\n",
       "  <tbody>\n",
       "    <tr>\n",
       "      <th>0</th>\n",
       "      <td>Yes</td>\n",
       "      <td>Office Supplies</td>\n",
       "      <td>1348</td>\n",
       "    </tr>\n",
       "    <tr>\n",
       "      <th>1</th>\n",
       "      <td>Yes</td>\n",
       "      <td>Technology</td>\n",
       "      <td>445</td>\n",
       "    </tr>\n",
       "    <tr>\n",
       "      <th>2</th>\n",
       "      <td>Yes</td>\n",
       "      <td>Furniture</td>\n",
       "      <td>427</td>\n",
       "    </tr>\n",
       "  </tbody>\n",
       "</table>\n",
       "</div>"
      ],
      "text/plain": [
       "  Returned         Category  Category_count\n",
       "0      Yes  Office Supplies            1348\n",
       "1      Yes       Technology             445\n",
       "2      Yes        Furniture             427"
      ]
     },
     "execution_count": 191,
     "metadata": {},
     "output_type": "execute_result"
    }
   ],
   "source": [
    "ret_cat"
   ]
  },
  {
   "cell_type": "code",
   "execution_count": 193,
   "id": "1ff80b36",
   "metadata": {},
   "outputs": [],
   "source": [
    "all_cat = all_cat.merge(ret_cat, left_index=True, right_on='Category')"
   ]
  },
  {
   "cell_type": "code",
   "execution_count": 195,
   "id": "b082cc1a",
   "metadata": {},
   "outputs": [],
   "source": [
    "all_cat['Cat_ratio'] = all_cat['Category_count'] / all_cat['Category_x']"
   ]
  },
  {
   "cell_type": "code",
   "execution_count": 197,
   "id": "b764e308",
   "metadata": {},
   "outputs": [
    {
     "data": {
      "text/html": [
       "<div>\n",
       "<style scoped>\n",
       "    .dataframe tbody tr th:only-of-type {\n",
       "        vertical-align: middle;\n",
       "    }\n",
       "\n",
       "    .dataframe tbody tr th {\n",
       "        vertical-align: top;\n",
       "    }\n",
       "\n",
       "    .dataframe thead th {\n",
       "        text-align: right;\n",
       "    }\n",
       "</style>\n",
       "<table border=\"1\" class=\"dataframe\">\n",
       "  <thead>\n",
       "    <tr style=\"text-align: right;\">\n",
       "      <th></th>\n",
       "      <th>Category</th>\n",
       "      <th>Category_x</th>\n",
       "      <th>Returned</th>\n",
       "      <th>Category_y</th>\n",
       "      <th>Category_count</th>\n",
       "      <th>Cat_ratio</th>\n",
       "    </tr>\n",
       "  </thead>\n",
       "  <tbody>\n",
       "    <tr>\n",
       "      <th>1</th>\n",
       "      <td>Technology</td>\n",
       "      <td>10141</td>\n",
       "      <td>Yes</td>\n",
       "      <td>Technology</td>\n",
       "      <td>445</td>\n",
       "      <td>0.043881</td>\n",
       "    </tr>\n",
       "    <tr>\n",
       "      <th>2</th>\n",
       "      <td>Furniture</td>\n",
       "      <td>9860</td>\n",
       "      <td>Yes</td>\n",
       "      <td>Furniture</td>\n",
       "      <td>427</td>\n",
       "      <td>0.043306</td>\n",
       "    </tr>\n",
       "    <tr>\n",
       "      <th>0</th>\n",
       "      <td>Office Supplies</td>\n",
       "      <td>31289</td>\n",
       "      <td>Yes</td>\n",
       "      <td>Office Supplies</td>\n",
       "      <td>1348</td>\n",
       "      <td>0.043082</td>\n",
       "    </tr>\n",
       "  </tbody>\n",
       "</table>\n",
       "</div>"
      ],
      "text/plain": [
       "          Category  Category_x Returned       Category_y  Category_count  \\\n",
       "1       Technology       10141      Yes       Technology             445   \n",
       "2        Furniture        9860      Yes        Furniture             427   \n",
       "0  Office Supplies       31289      Yes  Office Supplies            1348   \n",
       "\n",
       "   Cat_ratio  \n",
       "1   0.043881  \n",
       "2   0.043306  \n",
       "0   0.043082  "
      ]
     },
     "execution_count": 197,
     "metadata": {},
     "output_type": "execute_result"
    }
   ],
   "source": [
    "all_cat.sort_values(by='Cat_ratio', ascending=False)"
   ]
  },
  {
   "cell_type": "code",
   "execution_count": 106,
   "id": "e595e21c",
   "metadata": {},
   "outputs": [
    {
     "data": {
      "text/plain": [
       "Returned  Category       \n",
       "Yes       Office Supplies    1348\n",
       "          Technology          445\n",
       "          Furniture           427\n",
       "Name: Category, dtype: int64"
      ]
     },
     "execution_count": 106,
     "metadata": {},
     "output_type": "execute_result"
    }
   ],
   "source": [
    "data.groupby('Returned')['Category'].value_counts()"
   ]
  },
  {
   "cell_type": "markdown",
   "id": "d6dfd9a7",
   "metadata": {},
   "source": [
    "### Problem 4: Feature Engineering\n",
    "#### Step 1: Create the dependent variable\n",
    "- First of all, we need to generate a categorical variable which indicates whether an order has been returned or not.\n",
    "- ***Hint:*** the returned orders’ IDs are contained in the dataset “returns”\n",
    "\n",
    "\n",
    "#### Step 2:\n",
    "- Your manager believes that **how long it took the order to ship** would affect whether the customer would return it or not. \n",
    "- He wants you to generate a feature which can measure how long it takes the company to process each order.\n",
    "- ***Hint:*** Process.Time = Ship.Date - Order.Date\n",
    "\n",
    "\n",
    "#### Step 3:\n",
    "\n",
    "- If a product has been returned before, it may be returned again. \n",
    "- Let us generate a feature indictes how many times the product has been returned before.\n",
    "- If it never got returned, we just impute using 0.\n",
    "- ***Hint:*** Group by different Product.ID\n"
   ]
  },
  {
   "cell_type": "code",
   "execution_count": 203,
   "id": "de660c26",
   "metadata": {},
   "outputs": [],
   "source": [
    "data.Returned = data.Returned.replace({np.NaN:0,'Yes':1})"
   ]
  },
  {
   "cell_type": "code",
   "execution_count": 205,
   "id": "9c08b859",
   "metadata": {},
   "outputs": [],
   "source": [
    "data['Ship.Date'] = pd.to_datetime(data['Ship.Date'])"
   ]
  },
  {
   "cell_type": "code",
   "execution_count": 209,
   "id": "b27dad2a",
   "metadata": {},
   "outputs": [],
   "source": [
    "data['Process.Time'] = data['Ship.Date'] - data['Order.Date']"
   ]
  },
  {
   "cell_type": "code",
   "execution_count": 225,
   "id": "496b676f",
   "metadata": {},
   "outputs": [
    {
     "data": {
      "text/plain": [
       "<AxesSubplot:ylabel='Process.Time'>"
      ]
     },
     "execution_count": 225,
     "metadata": {},
     "output_type": "execute_result"
    },
    {
     "data": {
      "image/png": "[encoded data removed]",
      "text/plain": [
       "<Figure size 1080x576 with 1 Axes>"
      ]
     },
     "metadata": {
      "needs_background": "light"
     },
     "output_type": "display_data"
    }
   ],
   "source": [
    "plot = data['Process.Time'].value_counts().to_frame()\n",
    "\n",
    "plt.figure(figsize=(15,8))\n",
    "sns.barplot(x=plot.index, y='Process.Time', data=plot, \n",
    "            order=plot.index.sort_values(), palette='afmhot')"
   ]
  },
  {
   "cell_type": "code",
   "execution_count": 233,
   "id": "fb0179a2",
   "metadata": {},
   "outputs": [],
   "source": [
    "Prod_ret_dict = data.groupby('Product.ID').count()['Returned'].to_dict()"
   ]
  },
  {
   "cell_type": "code",
   "execution_count": 235,
   "id": "28682cc0",
   "metadata": {},
   "outputs": [],
   "source": [
    "data['Product.ReturnTimes'] = data.apply(lambda r: Prod_ret_dict[r['Product.ID']],axis=1)"
   ]
  },
  {
   "cell_type": "code",
   "execution_count": 237,
   "id": "29758fa2",
   "metadata": {},
   "outputs": [
    {
     "data": {
      "text/plain": [
       "Index(['Order.ID', 'Order.Date', 'Ship.Date', 'Ship.Mode', 'Customer.ID',\n",
       "       'Customer.Name', 'Segment', 'Postal.Code', 'City', 'State', 'Country',\n",
       "       'Region_x', 'Market', 'Product.ID', 'Category', 'Sub.Category',\n",
       "       'Product.Name', 'Sales', 'Quantity', 'Discount', 'Profit',\n",
       "       'Shipping.Cost', 'Order.Priority', 'month', 'year', 'Returned',\n",
       "       'Order ID', 'Region_y', 'Process.Time', 'Product.ReturnTimes'],\n",
       "      dtype='object')"
      ]
     },
     "execution_count": 237,
     "metadata": {},
     "output_type": "execute_result"
    }
   ],
   "source": [
    "data.columns"
   ]
  },
  {
   "cell_type": "markdown",
   "id": "338a39f6",
   "metadata": {},
   "source": [
    "### Problem 5: Fitting Models\n",
    "- You can use any binary classification method you have learned so far.\n",
    "- Use 80/20 training and test splits to build your model. \n",
    "- Double check the column types before you fit the model.\n",
    "- Only include useful features. i.e all the `ID`s should be excluded from your training set.\n",
    "- Note that there are only less than 5% of the orders have been returned, so you should consider using the [createDataPartition](https://www.rdocumentation.org/packages/caret/versions/6.0-80/topics/createDataPartition) function from `caret` package and [StratifiedKfold](http://scikit-learn.org/stable/modules/generated/sklearn.model_selection.StratifiedKFold.html#sklearn-model-selection-stratifiedkfold) from sklearn when running cross-validation.\n",
    "- Do forget to `set.seed()` before the spilt to make your result reproducible.\n",
    "- **Note:** We are not looking for the best tuned model in the lab so don't spend too much time on grid search. Focus on model evaluation and the business use case of each model."
   ]
  },
  {
   "cell_type": "code",
   "execution_count": 295,
   "id": "c8b3794c",
   "metadata": {},
   "outputs": [],
   "source": [
    "# Set y vector\n",
    "y = data.Returned"
   ]
  },
  {
   "cell_type": "code",
   "execution_count": 296,
   "id": "09494a1c",
   "metadata": {},
   "outputs": [],
   "source": [
    "# Ship.Mode, Segment, Region (or Market), Sub.Catergory (or Category), Shipping.Cost,\n",
    "# Quantity, Discount, Order.Priority, OrderMonth, Process_time, Num_Returns"
   ]
  },
  {
   "cell_type": "code",
   "execution_count": 348,
   "id": "8bd97b7d",
   "metadata": {},
   "outputs": [],
   "source": [
    "# Set X matrix\n",
    "X = data[['Category','Quantity','month','Process.Time','Product.ReturnTimes']]"
   ]
  },
  {
   "cell_type": "code",
   "execution_count": 349,
   "id": "19d0cbde",
   "metadata": {},
   "outputs": [
    {
     "data": {
      "text/plain": [
       "count    51290.000000\n",
       "mean        23.867304\n",
       "std         19.616341\n",
       "min          1.000000\n",
       "25%         13.000000\n",
       "50%         20.000000\n",
       "75%         32.000000\n",
       "max        227.000000\n",
       "Name: Product.ReturnTimes, dtype: float64"
      ]
     },
     "execution_count": 349,
     "metadata": {},
     "output_type": "execute_result"
    }
   ],
   "source": [
    "X['Product.ReturnTimes'].describe()"
   ]
  },
  {
   "cell_type": "code",
   "execution_count": 350,
   "id": "66dcc251",
   "metadata": {},
   "outputs": [
    {
     "data": {
      "text/plain": [
       "(51290, 5)"
      ]
     },
     "execution_count": 350,
     "metadata": {},
     "output_type": "execute_result"
    }
   ],
   "source": [
    "X.shape"
   ]
  },
  {
   "cell_type": "code",
   "execution_count": 351,
   "id": "b86bde3a",
   "metadata": {},
   "outputs": [
    {
     "name": "stderr",
     "output_type": "stream",
     "text": [
      "<ipython-input-351-55f331c6c678>:1: SettingWithCopyWarning: \n",
      "A value is trying to be set on a copy of a slice from a DataFrame.\n",
      "Try using .loc[row_indexer,col_indexer] = value instead\n",
      "\n",
      "See the caveats in the documentation: https://pandas.pydata.org/pandas-docs/stable/user_guide/indexing.html#returning-a-view-versus-a-copy\n",
      "  X['Process.Time'] = X['Process.Time'].dt.days\n"
     ]
    }
   ],
   "source": [
    "X['Process.Time'] = X['Process.Time'].dt.days"
   ]
  },
  {
   "cell_type": "code",
   "execution_count": 352,
   "id": "62a2817a",
   "metadata": {},
   "outputs": [
    {
     "data": {
      "text/html": [
       "<div>\n",
       "<style scoped>\n",
       "    .dataframe tbody tr th:only-of-type {\n",
       "        vertical-align: middle;\n",
       "    }\n",
       "\n",
       "    .dataframe tbody tr th {\n",
       "        vertical-align: top;\n",
       "    }\n",
       "\n",
       "    .dataframe thead th {\n",
       "        text-align: right;\n",
       "    }\n",
       "</style>\n",
       "<table border=\"1\" class=\"dataframe\">\n",
       "  <thead>\n",
       "    <tr style=\"text-align: right;\">\n",
       "      <th></th>\n",
       "      <th>Category</th>\n",
       "      <th>Quantity</th>\n",
       "      <th>month</th>\n",
       "      <th>Process.Time</th>\n",
       "      <th>Product.ReturnTimes</th>\n",
       "    </tr>\n",
       "  </thead>\n",
       "  <tbody>\n",
       "    <tr>\n",
       "      <th>0</th>\n",
       "      <td>Technology</td>\n",
       "      <td>2</td>\n",
       "      <td>11</td>\n",
       "      <td>2</td>\n",
       "      <td>2</td>\n",
       "    </tr>\n",
       "    <tr>\n",
       "      <th>1</th>\n",
       "      <td>Furniture</td>\n",
       "      <td>9</td>\n",
       "      <td>2</td>\n",
       "      <td>2</td>\n",
       "      <td>25</td>\n",
       "    </tr>\n",
       "    <tr>\n",
       "      <th>2</th>\n",
       "      <td>Technology</td>\n",
       "      <td>9</td>\n",
       "      <td>10</td>\n",
       "      <td>1</td>\n",
       "      <td>24</td>\n",
       "    </tr>\n",
       "    <tr>\n",
       "      <th>3</th>\n",
       "      <td>Technology</td>\n",
       "      <td>5</td>\n",
       "      <td>1</td>\n",
       "      <td>2</td>\n",
       "      <td>23</td>\n",
       "    </tr>\n",
       "    <tr>\n",
       "      <th>4</th>\n",
       "      <td>Technology</td>\n",
       "      <td>8</td>\n",
       "      <td>11</td>\n",
       "      <td>1</td>\n",
       "      <td>12</td>\n",
       "    </tr>\n",
       "  </tbody>\n",
       "</table>\n",
       "</div>"
      ],
      "text/plain": [
       "     Category  Quantity  month  Process.Time  Product.ReturnTimes\n",
       "0  Technology         2     11             2                    2\n",
       "1   Furniture         9      2             2                   25\n",
       "2  Technology         9     10             1                   24\n",
       "3  Technology         5      1             2                   23\n",
       "4  Technology         8     11             1                   12"
      ]
     },
     "execution_count": 352,
     "metadata": {},
     "output_type": "execute_result"
    }
   ],
   "source": [
    "X.head()"
   ]
  },
  {
   "cell_type": "code",
   "execution_count": 353,
   "id": "9d87316f",
   "metadata": {},
   "outputs": [],
   "source": [
    "X = pd.concat([X, pd.get_dummies(X.Category,drop_first=True)], axis=1)"
   ]
  },
  {
   "cell_type": "code",
   "execution_count": 354,
   "id": "0df93af1",
   "metadata": {},
   "outputs": [],
   "source": [
    "X.drop('Category', axis=1, inplace=True)"
   ]
  },
  {
   "cell_type": "code",
   "execution_count": 355,
   "id": "1667b66b",
   "metadata": {},
   "outputs": [],
   "source": [
    "from sklearn.model_selection import train_test_split\n",
    "X_train, X_test, Y_train, Y_test = train_test_split(X,y,test_size=0.2)"
   ]
  },
  {
   "cell_type": "code",
   "execution_count": 356,
   "id": "d36d5008",
   "metadata": {},
   "outputs": [],
   "source": [
    "from sklearn import linear_model\n",
    "logit_1 = linear_model.LogisticRegression(solver='liblinear')"
   ]
  },
  {
   "cell_type": "code",
   "execution_count": 357,
   "id": "d1c6fdb1",
   "metadata": {
    "scrolled": true
   },
   "outputs": [
    {
     "data": {
      "text/plain": [
       "{'C': 1.0,\n",
       " 'class_weight': None,\n",
       " 'dual': False,\n",
       " 'fit_intercept': True,\n",
       " 'intercept_scaling': 1,\n",
       " 'l1_ratio': None,\n",
       " 'max_iter': 100,\n",
       " 'multi_class': 'auto',\n",
       " 'n_jobs': None,\n",
       " 'penalty': 'l2',\n",
       " 'random_state': None,\n",
       " 'solver': 'liblinear',\n",
       " 'tol': 0.0001,\n",
       " 'verbose': 0,\n",
       " 'warm_start': False}"
      ]
     },
     "execution_count": 357,
     "metadata": {},
     "output_type": "execute_result"
    }
   ],
   "source": [
    "logit_1.get_params()"
   ]
  },
  {
   "cell_type": "code",
   "execution_count": 358,
   "id": "f0f08ae8",
   "metadata": {},
   "outputs": [
    {
     "data": {
      "text/plain": [
       "LogisticRegression(random_state=1, solver='liblinear')"
      ]
     },
     "execution_count": 358,
     "metadata": {},
     "output_type": "execute_result"
    }
   ],
   "source": [
    "logit_1.set_params(random_state=1)"
   ]
  },
  {
   "cell_type": "code",
   "execution_count": 359,
   "id": "b2ea3e53",
   "metadata": {},
   "outputs": [
    {
     "data": {
      "text/plain": [
       "0.956814193799961"
      ]
     },
     "execution_count": 359,
     "metadata": {},
     "output_type": "execute_result"
    }
   ],
   "source": [
    "logit_1.fit(X_train, Y_train)\n",
    "logit_1.score(X_test, Y_test)"
   ]
  },
  {
   "cell_type": "code",
   "execution_count": 360,
   "id": "cb5c1730",
   "metadata": {
    "scrolled": true
   },
   "outputs": [
    {
     "data": {
      "text/plain": [
       "array([[49070,     0],\n",
       "       [ 2220,     0]], dtype=int64)"
      ]
     },
     "execution_count": 360,
     "metadata": {},
     "output_type": "execute_result"
    }
   ],
   "source": [
    "from sklearn.metrics import confusion_matrix\n",
    "confusion_matrix(y, pd.DataFrame(logit_1.predict(X)))"
   ]
  },
  {
   "cell_type": "markdown",
   "id": "1d10649c",
   "metadata": {},
   "source": [
    "## SGDClassifier instead of Linear model?\n",
    "## Set Class_weight to balanced"
   ]
  },
  {
   "cell_type": "code",
   "execution_count": 365,
   "id": "3a23e5f5",
   "metadata": {},
   "outputs": [],
   "source": [
    "from sklearn.linear_model import SGDClassifier"
   ]
  },
  {
   "cell_type": "code",
   "execution_count": 384,
   "id": "70559086",
   "metadata": {},
   "outputs": [],
   "source": [
    "sgd = SGDClassifier(loss='log', max_iter=1e4, l1_ratio=0, alpha=1e-4, shuffle=True, class_weight='balanced')"
   ]
  },
  {
   "cell_type": "code",
   "execution_count": 385,
   "id": "bcb3b023",
   "metadata": {},
   "outputs": [
    {
     "data": {
      "text/plain": [
       "0.9364398518229674"
      ]
     },
     "execution_count": 385,
     "metadata": {},
     "output_type": "execute_result"
    }
   ],
   "source": [
    "sgd.fit(X_train, Y_train)\n",
    "sgd.score(X_test, Y_test)"
   ]
  },
  {
   "cell_type": "code",
   "execution_count": 386,
   "id": "bff1adda",
   "metadata": {},
   "outputs": [
    {
     "data": {
      "text/plain": [
       "array([[48030,  1040],\n",
       "       [ 2148,    72]], dtype=int64)"
      ]
     },
     "execution_count": 386,
     "metadata": {},
     "output_type": "execute_result"
    }
   ],
   "source": [
    "confusion_matrix(y, pd.DataFrame(sgd.predict(X)))"
   ]
  },
  {
   "cell_type": "code",
   "execution_count": 387,
   "id": "140b5f96",
   "metadata": {},
   "outputs": [
    {
     "data": {
      "text/plain": [
       "{'alpha': 0.0001,\n",
       " 'average': False,\n",
       " 'class_weight': 'balanced',\n",
       " 'early_stopping': False,\n",
       " 'epsilon': 0.1,\n",
       " 'eta0': 0.0,\n",
       " 'fit_intercept': True,\n",
       " 'l1_ratio': 0,\n",
       " 'learning_rate': 'optimal',\n",
       " 'loss': 'log',\n",
       " 'max_iter': 10000.0,\n",
       " 'n_iter_no_change': 5,\n",
       " 'n_jobs': None,\n",
       " 'penalty': 'l2',\n",
       " 'power_t': 0.5,\n",
       " 'random_state': None,\n",
       " 'shuffle': True,\n",
       " 'tol': 0.001,\n",
       " 'validation_fraction': 0.1,\n",
       " 'verbose': 0,\n",
       " 'warm_start': False}"
      ]
     },
     "execution_count": 387,
     "metadata": {},
     "output_type": "execute_result"
    }
   ],
   "source": [
    "sgd.get_params()"
   ]
  },
  {
   "cell_type": "code",
   "execution_count": null,
   "id": "74aff1b3",
   "metadata": {},
   "outputs": [],
   "source": []
  },
  {
   "cell_type": "code",
   "execution_count": 388,
   "id": "a40f87a3",
   "metadata": {},
   "outputs": [],
   "source": [
    "from sklearn.model_selection import StratifiedKFold\n",
    "from sklearn.model_selection import cross_val_score"
   ]
  },
  {
   "cell_type": "code",
   "execution_count": 389,
   "id": "14fa7632",
   "metadata": {},
   "outputs": [],
   "source": [
    "skf = StratifiedKFold(n_splits=5, random_state=1, shuffle=True)"
   ]
  },
  {
   "cell_type": "code",
   "execution_count": 390,
   "id": "2adc956a",
   "metadata": {},
   "outputs": [
    {
     "data": {
      "text/plain": [
       "{0.0001: 0.27125079525123164,\n",
       " 0.01: 0.35838277727343854,\n",
       " 1: 0.536386434827738,\n",
       " 10: 0.5321269707849725,\n",
       " 100: 0.9344658431522095,\n",
       " 1000: 0.9541333508506632,\n",
       " 10000: 0.7740677523312892}"
      ]
     },
     "execution_count": 390,
     "metadata": {},
     "output_type": "execute_result"
    }
   ],
   "source": [
    "result = {}\n",
    "for alpha in [0.0001, 0.01, 1, 10, 100, 1000, 10000]:\n",
    "    sgd.set_params(alpha=alpha)\n",
    "    result[alpha] = cross_val_score(sgd, X_train, y_train, cv=skf).mean()\n",
    "    \n",
    "result"
   ]
  },
  {
   "cell_type": "code",
   "execution_count": null,
   "id": "7028fbfe",
   "metadata": {},
   "outputs": [],
   "source": []
  }
 ],
 "metadata": {
  "kernelspec": {
   "display_name": "Python 3",
   "language": "python",
   "name": "python3"
  },
  "language_info": {
   "codemirror_mode": {
    "name": "ipython",
    "version": 3
   },
   "file_extension": ".py",
   "mimetype": "text/x-python",
   "name": "python",
   "nbconvert_exporter": "python",
   "pygments_lexer": "ipython3",
   "version": "3.8.8"
  }
 },
 "nbformat": 4,
 "nbformat_minor": 5
}
